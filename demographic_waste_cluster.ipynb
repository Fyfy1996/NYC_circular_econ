{
 "cells": [
  {
   "cell_type": "code",
   "execution_count": 26,
   "metadata": {},
   "outputs": [],
   "source": [
    "import pandas as pd\n",
    "import numpy as np\n",
    "import datetime\n",
    "import matplotlib.pylab as plt\n",
    "import geopandas as gpd"
   ]
  },
  {
   "cell_type": "code",
   "execution_count": 169,
   "metadata": {},
   "outputs": [],
   "source": [
    "demo = pd.read_csv('CD_demographic.csv')\n",
    "boro_2id = {'Manhattan':1, 'Bronx':2, 'Brooklyn':3, 'Queens':4, 'Staten Island':5}\n",
    "boro_id = []\n",
    "for boro in demo.Borough:\n",
    "    if boro in boro_2id.keys():\n",
    "        boro_id.append(str(boro_2id[boro]))\n",
    "\n",
    "cd_num = []\n",
    "for num in demo['CD Number']:\n",
    "    num = \"{:02d}\".format(num)\n",
    "    cd_num.append(num)\n",
    "demo['CD_Num_New'] = cd_num\n",
    "demo['Borough_id'] = boro_id\n",
    "demo['CommBd'] = demo.Borough_id + demo.CD_Num_New"
   ]
  },
  {
   "cell_type": "code",
   "execution_count": 170,
   "metadata": {},
   "outputs": [
    {
     "name": "stderr",
     "output_type": "stream",
     "text": [
      "/Library/Frameworks/Python.framework/Versions/3.6/lib/python3.6/site-packages/ipykernel_launcher.py:8: FutureWarning: Comparing Series of datetimes with 'datetime.date'.  Currently, the\n",
      "'datetime.date' is coerced to a datetime. In the future pandas will\n",
      "not coerce, and a TypeError will be raised. To retain the current\n",
      "behavior, convert the 'datetime.date' to a datetime with\n",
      "'pd.Timestamp'.\n",
      "  \n",
      "/Library/Frameworks/Python.framework/Versions/3.6/lib/python3.6/site-packages/ipykernel_launcher.py:10: FutureWarning: Comparing Series of datetimes with 'datetime.date'.  Currently, the\n",
      "'datetime.date' is coerced to a datetime. In the future pandas will\n",
      "not coerce, and a TypeError will be raised. To retain the current\n",
      "behavior, convert the 'datetime.date' to a datetime with\n",
      "'pd.Timestamp'.\n",
      "  # Remove the CWD from sys.path while we load stuff.\n",
      "/Library/Frameworks/Python.framework/Versions/3.6/lib/python3.6/site-packages/ipykernel_launcher.py:12: FutureWarning: Comparing Series of datetimes with 'datetime.date'.  Currently, the\n",
      "'datetime.date' is coerced to a datetime. In the future pandas will\n",
      "not coerce, and a TypeError will be raised. To retain the current\n",
      "behavior, convert the 'datetime.date' to a datetime with\n",
      "'pd.Timestamp'.\n",
      "  if sys.path[0] == '':\n",
      "/Library/Frameworks/Python.framework/Versions/3.6/lib/python3.6/site-packages/ipykernel_launcher.py:14: FutureWarning: Comparing Series of datetimes with 'datetime.date'.  Currently, the\n",
      "'datetime.date' is coerced to a datetime. In the future pandas will\n",
      "not coerce, and a TypeError will be raised. To retain the current\n",
      "behavior, convert the 'datetime.date' to a datetime with\n",
      "'pd.Timestamp'.\n",
      "  \n",
      "/Library/Frameworks/Python.framework/Versions/3.6/lib/python3.6/site-packages/ipykernel_launcher.py:16: FutureWarning: Comparing Series of datetimes with 'datetime.date'.  Currently, the\n",
      "'datetime.date' is coerced to a datetime. In the future pandas will\n",
      "not coerce, and a TypeError will be raised. To retain the current\n",
      "behavior, convert the 'datetime.date' to a datetime with\n",
      "'pd.Timestamp'.\n",
      "  app.launch_new_instance()\n",
      "/Library/Frameworks/Python.framework/Versions/3.6/lib/python3.6/site-packages/ipykernel_launcher.py:18: FutureWarning: Comparing Series of datetimes with 'datetime.date'.  Currently, the\n",
      "'datetime.date' is coerced to a datetime. In the future pandas will\n",
      "not coerce, and a TypeError will be raised. To retain the current\n",
      "behavior, convert the 'datetime.date' to a datetime with\n",
      "'pd.Timestamp'.\n"
     ]
    }
   ],
   "source": [
    "Month_Tonnage=pd.read_csv(\"DSNY_Monthly_Tonnage_Data.csv\")\n",
    "Tonnage=Month_Tonnage.fillna(0).copy()\n",
    "Tonnage['COMMUNITYDISTRICT'] = Tonnage.COMMUNITYDISTRICT.map('{:02}'.format)\n",
    "Tonnage['MONTH']=pd.to_datetime(Tonnage['MONTH'])\n",
    "Tonnage['COMMUNITYDISTRICT']=Tonnage['COMMUNITYDISTRICT'].astype(str)\n",
    "Tonnage['BOROUGH_ID']=Tonnage['BOROUGH_ID'].astype(str)\n",
    "Tonnage['CommBd'] = Tonnage['BOROUGH_ID']+Tonnage['COMMUNITYDISTRICT']\n",
    "y15_pan = Tonnage[(Tonnage.MONTH >=datetime.date(year=2015,month=3,day=1))&(Tonnage.MONTH < datetime.date(year=2015,month=5,day=1))].groupby('CommBd')[['REFUSETONSCOLLECTED','PAPERTONSCOLLECTED','MGPTONSCOLLECTED','RESORGANICSTONS']].sum()\n",
    "\n",
    "y16_pan = Tonnage[(Tonnage.MONTH >=datetime.date(year=2016,month=3,day=1))&(Tonnage.MONTH < datetime.date(year=2016,month=5,day=1))].groupby('CommBd')[['REFUSETONSCOLLECTED','PAPERTONSCOLLECTED','MGPTONSCOLLECTED','RESORGANICSTONS']].sum()\n",
    "\n",
    "y17_pan = Tonnage[(Tonnage.MONTH >=datetime.date(year=2017,month=3,day=1))&(Tonnage.MONTH < datetime.date(year=2017,month=5,day=1))].groupby('CommBd')[['REFUSETONSCOLLECTED','PAPERTONSCOLLECTED','MGPTONSCOLLECTED','RESORGANICSTONS']].sum()\n",
    "\n",
    "y18_pan = Tonnage[(Tonnage.MONTH >=datetime.date(year=2018,month=3,day=1))&(Tonnage.MONTH < datetime.date(year=2018,month=5,day=1))].groupby('CommBd')[['REFUSETONSCOLLECTED','PAPERTONSCOLLECTED','MGPTONSCOLLECTED','RESORGANICSTONS']].sum()\n",
    "\n",
    "y19_pan = Tonnage[(Tonnage.MONTH >=datetime.date(year=2019,month=3,day=1))&(Tonnage.MONTH < datetime.date(year=2019,month=5,day=1))].groupby('CommBd')[['REFUSETONSCOLLECTED','PAPERTONSCOLLECTED','MGPTONSCOLLECTED','RESORGANICSTONS']].sum()\n",
    "\n",
    "y20_pan = Tonnage[(Tonnage.MONTH >=datetime.date(year=2020,month=3,day=1))&(Tonnage.MONTH < datetime.date(year=2020,month=5,day=1))].groupby('CommBd')[['REFUSETONSCOLLECTED','PAPERTONSCOLLECTED','MGPTONSCOLLECTED','RESORGANICSTONS']].sum()\n"
   ]
  },
  {
   "cell_type": "markdown",
   "metadata": {},
   "source": [
    "Community District Demographic"
   ]
  },
  {
   "cell_type": "code",
   "execution_count": 171,
   "metadata": {},
   "outputs": [],
   "source": [
    "pan_normal = y15_pan + y16_pan + y17_pan + y18_pan + y19_pan\n",
    "pan_normal = (pan_normal / 5)\n",
    "CommBd = demo.iloc[:,-1]\n",
    "population = demo.iloc[:,3]\n",
    "income = ((demo.iloc[:,5] + demo.iloc[:,6] + demo.iloc[:,7])/3)\n",
    "demo_small = pd.DataFrame([CommBd,population,income]).transpose()\n",
    "demo_small.columns = ['CommBd','Population','HH_Income']\n",
    "demo_small = demo_small.set_index('CommBd').sort_index()"
   ]
  },
  {
   "cell_type": "markdown",
   "metadata": {},
   "source": [
    "Normal Time"
   ]
  },
  {
   "cell_type": "code",
   "execution_count": 172,
   "metadata": {},
   "outputs": [],
   "source": [
    "waste_demo = pan_normal.merge(demo_small,left_index=True, right_index=True )\n",
    "waste_demo['avg_refuse'] = waste_demo.REFUSETONSCOLLECTED / waste_demo.Population\n",
    "waste_demo['avg_paper'] = waste_demo.PAPERTONSCOLLECTED / waste_demo.Population\n",
    "waste_demo['avg_mix'] = waste_demo.MGPTONSCOLLECTED / waste_demo.Population\n",
    "waste_demo['avg_organic'] = waste_demo.RESORGANICSTONS / waste_demo.Population\n",
    "waste_demo = waste_demo.drop(waste_demo.columns[[0,1,2,3]], axis=1)"
   ]
  },
  {
   "cell_type": "markdown",
   "metadata": {},
   "source": [
    "Stay At Home (SAH) period"
   ]
  },
  {
   "cell_type": "code",
   "execution_count": 173,
   "metadata": {},
   "outputs": [],
   "source": [
    "SAH_demo = y20_pan.merge(demo_small,left_index=True, right_index=True )\n",
    "SAH_demo['avg_refuse'] = SAH_demo.REFUSETONSCOLLECTED / SAH_demo.Population\n",
    "SAH_demo['avg_paper'] = SAH_demo.PAPERTONSCOLLECTED / SAH_demo.Population\n",
    "SAH_demo['avg_mix'] = SAH_demo.MGPTONSCOLLECTED / SAH_demo.Population\n",
    "SAH_demo['avg_organic'] = SAH_demo.RESORGANICSTONS / SAH_demo.Population\n",
    "SAH_demo = SAH_demo.drop(SAH_demo.columns[[0,1,2,3]], axis=1)"
   ]
  },
  {
   "cell_type": "code",
   "execution_count": null,
   "metadata": {},
   "outputs": [],
   "source": []
  },
  {
   "cell_type": "markdown",
   "metadata": {},
   "source": [
    "## DBSCAN "
   ]
  },
  {
   "cell_type": "code",
   "execution_count": 188,
   "metadata": {},
   "outputs": [],
   "source": [
    "from sklearn.cluster import DBSCAN\n",
    "from sklearn.preprocessing import StandardScaler, MinMaxScaler\n",
    "from sklearn import metrics\n",
    "from sklearn.decomposition import PCA"
   ]
  },
  {
   "cell_type": "code",
   "execution_count": 33,
   "metadata": {},
   "outputs": [],
   "source": [
    "SAH_small = SAH_demo.iloc[:,1:-1]\n",
    "normal_small = waste_demo.iloc[:,1:-1]\n",
    "SAH = StandardScaler().fit_transform(SAH_small)\n",
    "normal = StandardScaler().fit_transform(normal_small)\n",
    "pca = PCA(n_components=2)# Transform standardized dataset into 2-dimensinal array\n",
    "SAH_pc = pca.fit_transform(SAH)\n",
    "normal_pc = pca.fit_transform(normal)\n",
    "\n"
   ]
  },
  {
   "cell_type": "markdown",
   "metadata": {},
   "source": [
    "SAH"
   ]
  },
  {
   "cell_type": "code",
   "execution_count": 66,
   "metadata": {},
   "outputs": [
    {
     "name": "stdout",
     "output_type": "stream",
     "text": [
      "param 0.1 1\n",
      "cluster 57\n",
      "Silhouette Coefficient: 0.060\n",
      "\n",
      "param 0.1 2\n",
      "cluster 2\n",
      "Silhouette Coefficient: 0.230\n",
      "\n",
      "param 0.13 1\n",
      "cluster 54\n",
      "Silhouette Coefficient: 0.106\n",
      "\n",
      "param 0.13 2\n",
      "cluster 5\n",
      "Silhouette Coefficient: -0.254\n",
      "\n",
      "param 0.16 1\n",
      "cluster 52\n",
      "Silhouette Coefficient: 0.138\n",
      "\n",
      "param 0.16 2\n",
      "cluster 6\n",
      "Silhouette Coefficient: -0.272\n",
      "\n",
      "param 0.16 3\n",
      "cluster 1\n",
      "Silhouette Coefficient: 0.016\n",
      "\n",
      "param 0.19 1\n",
      "cluster 48\n",
      "Silhouette Coefficient: 0.173\n",
      "\n",
      "param 0.19 2\n",
      "cluster 7\n",
      "Silhouette Coefficient: -0.172\n",
      "\n",
      "param 0.19 3\n",
      "cluster 3\n",
      "Silhouette Coefficient: -0.231\n",
      "\n",
      "param 0.19 4\n",
      "cluster 1\n",
      "Silhouette Coefficient: -0.260\n",
      "\n",
      "param 0.22 1\n",
      "cluster 47\n",
      "Silhouette Coefficient: 0.186\n",
      "\n",
      "param 0.22 2\n",
      "cluster 7\n",
      "Silhouette Coefficient: -0.149\n",
      "\n",
      "param 0.22 3\n",
      "cluster 3\n",
      "Silhouette Coefficient: -0.207\n",
      "\n",
      "param 0.22 4\n",
      "cluster 1\n",
      "Silhouette Coefficient: -0.260\n",
      "\n",
      "param 0.25 1\n",
      "cluster 45\n",
      "Silhouette Coefficient: 0.196\n",
      "\n",
      "param 0.25 2\n",
      "cluster 8\n",
      "Silhouette Coefficient: -0.104\n",
      "\n",
      "param 0.25 3\n",
      "cluster 4\n",
      "Silhouette Coefficient: -0.190\n",
      "\n",
      "param 0.25 4\n",
      "cluster 1\n",
      "Silhouette Coefficient: -0.235\n",
      "\n",
      "param 0.25 5\n",
      "cluster 1\n",
      "Silhouette Coefficient: -0.235\n",
      "\n",
      "param 0.28 1\n",
      "cluster 40\n",
      "Silhouette Coefficient: 0.219\n",
      "\n",
      "param 0.28 2\n",
      "cluster 9\n",
      "Silhouette Coefficient: -0.031\n",
      "\n",
      "param 0.28 3\n",
      "cluster 5\n",
      "Silhouette Coefficient: -0.109\n",
      "\n",
      "param 0.28 4\n",
      "cluster 1\n",
      "Silhouette Coefficient: -0.188\n",
      "\n",
      "param 0.28 5\n",
      "cluster 1\n",
      "Silhouette Coefficient: -0.212\n",
      "\n",
      "param 0.31 1\n",
      "cluster 39\n",
      "Silhouette Coefficient: 0.242\n",
      "\n",
      "param 0.31 2\n",
      "cluster 9\n",
      "Silhouette Coefficient: -0.001\n",
      "\n",
      "param 0.31 3\n",
      "cluster 6\n",
      "Silhouette Coefficient: -0.068\n",
      "\n",
      "param 0.31 4\n",
      "cluster 2\n",
      "Silhouette Coefficient: -0.210\n",
      "\n",
      "param 0.31 5\n",
      "cluster 1\n",
      "Silhouette Coefficient: -0.212\n",
      "\n",
      "param 0.34 1\n",
      "cluster 32\n",
      "Silhouette Coefficient: 0.296\n",
      "\n",
      "param 0.34 2\n",
      "cluster 11\n",
      "Silhouette Coefficient: 0.100\n",
      "\n",
      "param 0.34 3\n",
      "cluster 6\n",
      "Silhouette Coefficient: -0.015\n",
      "\n",
      "param 0.34 4\n",
      "cluster 3\n",
      "Silhouette Coefficient: -0.105\n",
      "\n",
      "param 0.34 5\n",
      "cluster 2\n",
      "Silhouette Coefficient: -0.189\n",
      "\n",
      "param 0.34 6\n",
      "cluster 1\n",
      "Silhouette Coefficient: -0.209\n",
      "\n",
      "param 0.37 1\n",
      "cluster 31\n",
      "Silhouette Coefficient: 0.289\n",
      "\n",
      "param 0.37 2\n",
      "cluster 10\n",
      "Silhouette Coefficient: 0.103\n",
      "\n",
      "param 0.37 3\n",
      "cluster 6\n",
      "Silhouette Coefficient: 0.011\n",
      "\n",
      "param 0.37 4\n",
      "cluster 4\n",
      "Silhouette Coefficient: -0.106\n",
      "\n",
      "param 0.37 5\n",
      "cluster 2\n",
      "Silhouette Coefficient: -0.189\n",
      "\n",
      "param 0.37 6\n",
      "cluster 1\n",
      "Silhouette Coefficient: -0.209\n",
      "\n",
      "param 0.4 1\n",
      "cluster 30\n",
      "Silhouette Coefficient: 0.253\n",
      "\n",
      "param 0.4 2\n",
      "cluster 9\n",
      "Silhouette Coefficient: 0.076\n",
      "\n",
      "param 0.4 3\n",
      "cluster 5\n",
      "Silhouette Coefficient: 0.008\n",
      "\n",
      "param 0.4 4\n",
      "cluster 3\n",
      "Silhouette Coefficient: -0.082\n",
      "\n",
      "param 0.4 5\n",
      "cluster 2\n",
      "Silhouette Coefficient: -0.147\n",
      "\n",
      "param 0.4 6\n",
      "cluster 2\n",
      "Silhouette Coefficient: -0.147\n",
      "\n",
      "param 0.4 7\n",
      "cluster 1\n",
      "Silhouette Coefficient: -0.164\n",
      "\n",
      "param 0.43 1\n",
      "cluster 28\n",
      "Silhouette Coefficient: 0.171\n",
      "\n",
      "param 0.43 2\n",
      "cluster 9\n",
      "Silhouette Coefficient: 0.004\n",
      "\n",
      "param 0.43 3\n",
      "cluster 4\n",
      "Silhouette Coefficient: -0.066\n",
      "\n",
      "param 0.43 4\n",
      "cluster 2\n",
      "Silhouette Coefficient: 0.006\n",
      "\n",
      "param 0.43 5\n",
      "cluster 1\n",
      "Silhouette Coefficient: 0.041\n",
      "\n",
      "param 0.43 6\n",
      "cluster 1\n",
      "Silhouette Coefficient: 0.002\n",
      "\n",
      "param 0.43 7\n",
      "cluster 1\n",
      "Silhouette Coefficient: -0.102\n",
      "\n",
      "param 0.43 8\n",
      "cluster 1\n",
      "Silhouette Coefficient: -0.164\n",
      "\n",
      "param 0.46 1\n",
      "cluster 25\n",
      "Silhouette Coefficient: 0.084\n",
      "\n",
      "param 0.46 2\n",
      "cluster 6\n",
      "Silhouette Coefficient: -0.024\n",
      "\n",
      "param 0.46 3\n",
      "cluster 5\n",
      "Silhouette Coefficient: -0.028\n",
      "\n",
      "param 0.46 4\n",
      "cluster 2\n",
      "Silhouette Coefficient: 0.022\n",
      "\n",
      "param 0.46 5\n",
      "cluster 1\n",
      "Silhouette Coefficient: 0.051\n",
      "\n",
      "param 0.46 6\n",
      "cluster 1\n",
      "Silhouette Coefficient: 0.002\n",
      "\n",
      "param 0.46 7\n",
      "cluster 1\n",
      "Silhouette Coefficient: -0.064\n",
      "\n",
      "param 0.46 8\n",
      "cluster 1\n",
      "Silhouette Coefficient: -0.078\n",
      "\n",
      "param 0.46 9\n",
      "cluster 1\n",
      "Silhouette Coefficient: -0.111\n",
      "\n",
      "param 0.46 10\n",
      "cluster 1\n",
      "Silhouette Coefficient: -0.111\n",
      "\n",
      "param 0.49 1\n",
      "cluster 21\n",
      "Silhouette Coefficient: 0.100\n",
      "\n",
      "param 0.49 2\n",
      "cluster 8\n",
      "Silhouette Coefficient: 0.051\n",
      "\n",
      "param 0.49 3\n",
      "cluster 5\n",
      "Silhouette Coefficient: -0.019\n",
      "\n",
      "param 0.49 4\n",
      "cluster 2\n",
      "Silhouette Coefficient: 0.039\n",
      "\n",
      "param 0.49 5\n",
      "cluster 2\n",
      "Silhouette Coefficient: 0.044\n",
      "\n",
      "param 0.49 6\n",
      "cluster 1\n",
      "Silhouette Coefficient: 0.002\n",
      "\n",
      "param 0.49 7\n",
      "cluster 1\n",
      "Silhouette Coefficient: -0.064\n",
      "\n",
      "param 0.49 8\n",
      "cluster 1\n",
      "Silhouette Coefficient: -0.078\n",
      "\n",
      "param 0.49 9\n",
      "cluster 1\n",
      "Silhouette Coefficient: -0.111\n",
      "\n",
      "param 0.49 10\n",
      "cluster 1\n",
      "Silhouette Coefficient: -0.111\n",
      "\n",
      "param 0.52 1\n",
      "cluster 19\n",
      "Silhouette Coefficient: 0.083\n",
      "\n",
      "param 0.52 2\n",
      "cluster 7\n",
      "Silhouette Coefficient: 0.034\n",
      "\n",
      "param 0.52 3\n",
      "cluster 4\n",
      "Silhouette Coefficient: 0.031\n",
      "\n",
      "param 0.52 4\n",
      "cluster 3\n",
      "Silhouette Coefficient: 0.056\n",
      "\n",
      "param 0.52 5\n",
      "cluster 2\n",
      "Silhouette Coefficient: 0.077\n",
      "\n",
      "param 0.52 6\n",
      "cluster 1\n",
      "Silhouette Coefficient: 0.048\n",
      "\n",
      "param 0.52 7\n",
      "cluster 1\n",
      "Silhouette Coefficient: 0.025\n",
      "\n",
      "param 0.52 8\n",
      "cluster 1\n",
      "Silhouette Coefficient: -0.045\n",
      "\n",
      "param 0.52 9\n",
      "cluster 1\n",
      "Silhouette Coefficient: -0.111\n",
      "\n",
      "param 0.52 10\n",
      "cluster 1\n",
      "Silhouette Coefficient: -0.111\n",
      "\n",
      "param 0.55 1\n",
      "cluster 18\n",
      "Silhouette Coefficient: 0.062\n",
      "\n",
      "param 0.55 2\n",
      "cluster 7\n",
      "Silhouette Coefficient: 0.023\n",
      "\n",
      "param 0.55 3\n",
      "cluster 4\n",
      "Silhouette Coefficient: 0.022\n",
      "\n",
      "param 0.55 4\n",
      "cluster 3\n",
      "Silhouette Coefficient: 0.056\n",
      "\n",
      "param 0.55 5\n",
      "cluster 2\n",
      "Silhouette Coefficient: 0.077\n",
      "\n",
      "param 0.55 6\n",
      "cluster 1\n",
      "Silhouette Coefficient: 0.048\n",
      "\n",
      "param 0.55 7\n",
      "cluster 1\n",
      "Silhouette Coefficient: 0.048\n",
      "\n",
      "param 0.55 8\n",
      "cluster 1\n",
      "Silhouette Coefficient: 0.048\n",
      "\n",
      "param 0.55 9\n",
      "cluster 1\n",
      "Silhouette Coefficient: -0.111\n",
      "\n",
      "param 0.55 10\n",
      "cluster 1\n",
      "Silhouette Coefficient: -0.111\n",
      "\n",
      "param 0.58 1\n",
      "cluster 14\n",
      "Silhouette Coefficient: 0.035\n",
      "\n",
      "param 0.58 2\n",
      "cluster 7\n",
      "Silhouette Coefficient: 0.015\n",
      "\n",
      "param 0.58 3\n",
      "cluster 5\n",
      "Silhouette Coefficient: 0.066\n",
      "\n",
      "param 0.58 4\n",
      "cluster 2\n",
      "Silhouette Coefficient: 0.159\n",
      "\n",
      "param 0.58 5\n",
      "cluster 1\n",
      "Silhouette Coefficient: 0.199\n",
      "\n",
      "param 0.58 6\n",
      "cluster 1\n",
      "Silhouette Coefficient: 0.152\n",
      "\n",
      "param 0.58 7\n",
      "cluster 1\n",
      "Silhouette Coefficient: 0.065\n",
      "\n",
      "param 0.58 8\n",
      "cluster 1\n",
      "Silhouette Coefficient: 0.048\n",
      "\n",
      "param 0.58 9\n",
      "cluster 1\n",
      "Silhouette Coefficient: -0.078\n",
      "\n",
      "param 0.58 10\n",
      "cluster 1\n",
      "Silhouette Coefficient: -0.111\n",
      "\n",
      "param 0.61 1\n",
      "cluster 13\n",
      "Silhouette Coefficient: 0.127\n",
      "\n",
      "param 0.61 2\n",
      "cluster 6\n",
      "Silhouette Coefficient: 0.128\n",
      "\n",
      "param 0.61 3\n",
      "cluster 5\n",
      "Silhouette Coefficient: 0.099\n",
      "\n",
      "param 0.61 4\n",
      "cluster 2\n",
      "Silhouette Coefficient: 0.206\n",
      "\n",
      "param 0.61 5\n",
      "cluster 1\n",
      "Silhouette Coefficient: 0.233\n",
      "\n",
      "param 0.61 6\n",
      "cluster 2\n",
      "Silhouette Coefficient: -0.018\n",
      "\n",
      "param 0.61 7\n",
      "cluster 1\n",
      "Silhouette Coefficient: 0.084\n",
      "\n",
      "param 0.61 8\n",
      "cluster 1\n",
      "Silhouette Coefficient: 0.068\n",
      "\n",
      "param 0.61 9\n",
      "cluster 1\n",
      "Silhouette Coefficient: -0.030\n",
      "\n",
      "param 0.61 10\n",
      "cluster 1\n",
      "Silhouette Coefficient: -0.084\n",
      "\n",
      "param 0.61 11\n",
      "cluster 1\n",
      "Silhouette Coefficient: -0.084\n",
      "\n",
      "param 0.64 1\n",
      "cluster 11\n",
      "Silhouette Coefficient: 0.164\n",
      "\n",
      "param 0.64 2\n",
      "cluster 5\n",
      "Silhouette Coefficient: 0.204\n",
      "\n",
      "param 0.64 3\n",
      "cluster 4\n",
      "Silhouette Coefficient: 0.177\n",
      "\n",
      "param 0.64 4\n",
      "cluster 3\n",
      "Silhouette Coefficient: 0.155\n",
      "\n",
      "param 0.64 5\n",
      "cluster 1\n",
      "Silhouette Coefficient: 0.233\n",
      "\n",
      "param 0.64 6\n",
      "cluster 1\n",
      "Silhouette Coefficient: 0.194\n",
      "\n",
      "param 0.64 7\n",
      "cluster 1\n",
      "Silhouette Coefficient: 0.084\n",
      "\n",
      "param 0.64 8\n",
      "cluster 1\n",
      "Silhouette Coefficient: 0.068\n",
      "\n",
      "param 0.64 9\n",
      "cluster 1\n",
      "Silhouette Coefficient: 0.068\n",
      "\n",
      "param 0.64 10\n",
      "cluster 1\n",
      "Silhouette Coefficient: 0.001\n",
      "\n",
      "param 0.64 11\n",
      "cluster 1\n",
      "Silhouette Coefficient: 0.001\n",
      "\n",
      "param 0.64 12\n",
      "cluster 1\n",
      "Silhouette Coefficient: 0.001\n",
      "\n",
      "param 0.67 1\n",
      "cluster 9\n",
      "Silhouette Coefficient: 0.053\n",
      "\n",
      "param 0.67 2\n",
      "cluster 3\n",
      "Silhouette Coefficient: 0.341\n",
      "\n",
      "param 0.67 3\n",
      "cluster 2\n",
      "Silhouette Coefficient: 0.328\n",
      "\n",
      "param 0.67 4\n",
      "cluster 2\n",
      "Silhouette Coefficient: 0.264\n",
      "\n",
      "param 0.67 5\n",
      "cluster 1\n",
      "Silhouette Coefficient: 0.247\n",
      "\n",
      "param 0.67 6\n",
      "cluster 1\n",
      "Silhouette Coefficient: 0.210\n",
      "\n",
      "param 0.67 7\n",
      "cluster 1\n",
      "Silhouette Coefficient: 0.150\n",
      "\n",
      "param 0.67 8\n",
      "cluster 1\n",
      "Silhouette Coefficient: 0.138\n",
      "\n",
      "param 0.67 9\n",
      "cluster 1\n",
      "Silhouette Coefficient: 0.068\n",
      "\n",
      "param 0.67 10\n",
      "cluster 1\n",
      "Silhouette Coefficient: 0.060\n",
      "\n",
      "param 0.67 11\n",
      "cluster 1\n",
      "Silhouette Coefficient: 0.001\n",
      "\n",
      "param 0.67 12\n",
      "cluster 1\n",
      "Silhouette Coefficient: 0.001\n",
      "\n",
      "param 0.67 13\n",
      "cluster 1\n",
      "Silhouette Coefficient: -0.046\n",
      "\n"
     ]
    }
   ],
   "source": [
    "def DBS_param(data):   \n",
    "    silhouettescore=[]\n",
    "    for esp in [x * 0.01 for x in range(10, 70, 3)]:\n",
    "        for group in range(1,20,1):\n",
    "            db = DBSCAN(esp, group,metric='euclidean').fit(data)\n",
    "            labels = db.labels_\n",
    "\n",
    "    #         silhouette_avg = metrics.silhouette_score(SAH, labels)\n",
    "    #         silhouettescore.append(silhouette_avg)\n",
    "            n_clusters_ = len(set(labels)) - (1 if -1 in labels else 0)\n",
    "            n_noise_ = list(labels).count(-1)\n",
    "            if n_clusters_ != 0 and n_clusters_ != 59:\n",
    "                print('param',esp,group)\n",
    "                print('cluster',n_clusters_)\n",
    "                print(\"Silhouette Coefficient: %0.3f\"\n",
    "                      % metrics.silhouette_score(data, labels))\n",
    "                silhouettescore.append(metrics.silhouette_score(data, labels))\n",
    "                print('')\n",
    "\n",
    "DBS_param(SAH_pc)"
   ]
  },
  {
   "cell_type": "code",
   "execution_count": 41,
   "metadata": {},
   "outputs": [
    {
     "data": {
      "text/plain": [
       "0.3412686237201064"
      ]
     },
     "execution_count": 41,
     "metadata": {},
     "output_type": "execute_result"
    }
   ],
   "source": [
    "max(silhouettescore) # esp=0.67, min_samples=2"
   ]
  },
  {
   "cell_type": "code",
   "execution_count": 63,
   "metadata": {},
   "outputs": [],
   "source": [
    "def visuDB(data,eps,min_samples):\n",
    "    db = DBSCAN(eps, min_samples).fit(data)\n",
    "    plt.figure(figsize=(6,6))\n",
    "    plt.scatter(data[:,0],data[:,1],c=db.labels_,s=20) #Cluster label as 0, and -1 as not labeled\n",
    "    labels = db.labels_\n",
    "    n_clusters_ = len(set(labels)) - (1 if -1 in labels else 0)\n",
    "    print('Number of Cluster',n_clusters_)\n",
    "    print (\"Proportion of unclustered points=\",(1*(db.labels_ < 0)).mean())\n",
    "    plt.show()"
   ]
  },
  {
   "cell_type": "code",
   "execution_count": 64,
   "metadata": {},
   "outputs": [
    {
     "name": "stdout",
     "output_type": "stream",
     "text": [
      "Number of Cluster 3\n",
      "Proportion of unclustered points= 0.1016949152542373\n"
     ]
    },
    {
     "data": {
      "image/png": "[encoded data removed]",
      "text/plain": [
       "<Figure size 432x432 with 1 Axes>"
      ]
     },
     "metadata": {
      "needs_background": "light"
     },
     "output_type": "display_data"
    }
   ],
   "source": [
    "visuDB(SAH_pc,0.67,2)"
   ]
  },
  {
   "cell_type": "markdown",
   "metadata": {},
   "source": [
    "Normal"
   ]
  },
  {
   "cell_type": "code",
   "execution_count": 69,
   "metadata": {},
   "outputs": [
    {
     "name": "stdout",
     "output_type": "stream",
     "text": [
      "param 0.1 1\n",
      "cluster 57\n",
      "Silhouette Coefficient: 0.059\n",
      "\n",
      "param 0.1 2\n",
      "cluster 2\n",
      "Silhouette Coefficient: -0.125\n",
      "\n",
      "param 0.13 1\n",
      "cluster 56\n",
      "Silhouette Coefficient: 0.079\n",
      "\n",
      "param 0.13 2\n",
      "cluster 3\n",
      "Silhouette Coefficient: -0.298\n",
      "\n",
      "param 0.16 1\n",
      "cluster 56\n",
      "Silhouette Coefficient: 0.079\n",
      "\n",
      "param 0.16 2\n",
      "cluster 3\n",
      "Silhouette Coefficient: -0.298\n",
      "\n",
      "param 0.19 1\n",
      "cluster 52\n",
      "Silhouette Coefficient: 0.151\n",
      "\n",
      "param 0.19 2\n",
      "cluster 7\n",
      "Silhouette Coefficient: -0.301\n",
      "\n",
      "param 0.22 1\n",
      "cluster 50\n",
      "Silhouette Coefficient: 0.181\n",
      "\n",
      "param 0.22 2\n",
      "cluster 9\n",
      "Silhouette Coefficient: -0.227\n",
      "\n",
      "param 0.25 1\n",
      "cluster 48\n",
      "Silhouette Coefficient: 0.186\n",
      "\n",
      "param 0.25 2\n",
      "cluster 9\n",
      "Silhouette Coefficient: -0.192\n",
      "\n",
      "param 0.25 3\n",
      "cluster 1\n",
      "Silhouette Coefficient: -0.232\n",
      "\n",
      "param 0.25 4\n",
      "cluster 1\n",
      "Silhouette Coefficient: -0.232\n",
      "\n",
      "param 0.28 1\n",
      "cluster 46\n",
      "Silhouette Coefficient: 0.213\n",
      "\n",
      "param 0.28 2\n",
      "cluster 10\n",
      "Silhouette Coefficient: -0.148\n",
      "\n",
      "param 0.28 3\n",
      "cluster 2\n",
      "Silhouette Coefficient: -0.229\n",
      "\n",
      "param 0.28 4\n",
      "cluster 1\n",
      "Silhouette Coefficient: -0.232\n",
      "\n",
      "param 0.31 1\n",
      "cluster 42\n",
      "Silhouette Coefficient: 0.220\n",
      "\n",
      "param 0.31 2\n",
      "cluster 10\n",
      "Silhouette Coefficient: -0.094\n",
      "\n",
      "param 0.31 3\n",
      "cluster 2\n",
      "Silhouette Coefficient: -0.222\n",
      "\n",
      "param 0.31 4\n",
      "cluster 1\n",
      "Silhouette Coefficient: -0.136\n",
      "\n",
      "param 0.34 1\n",
      "cluster 39\n",
      "Silhouette Coefficient: 0.144\n",
      "\n",
      "param 0.34 2\n",
      "cluster 10\n",
      "Silhouette Coefficient: -0.136\n",
      "\n",
      "param 0.34 3\n",
      "cluster 1\n",
      "Silhouette Coefficient: -0.083\n",
      "\n",
      "param 0.34 4\n",
      "cluster 1\n",
      "Silhouette Coefficient: -0.125\n",
      "\n",
      "param 0.34 5\n",
      "cluster 1\n",
      "Silhouette Coefficient: -0.189\n",
      "\n",
      "param 0.37 1\n",
      "cluster 36\n",
      "Silhouette Coefficient: 0.182\n",
      "\n",
      "param 0.37 2\n",
      "cluster 13\n",
      "Silhouette Coefficient: -0.030\n",
      "\n",
      "param 0.37 3\n",
      "cluster 1\n",
      "Silhouette Coefficient: -0.083\n",
      "\n",
      "param 0.37 4\n",
      "cluster 1\n",
      "Silhouette Coefficient: -0.125\n",
      "\n",
      "param 0.37 5\n",
      "cluster 1\n",
      "Silhouette Coefficient: -0.136\n",
      "\n",
      "param 0.37 6\n",
      "cluster 1\n",
      "Silhouette Coefficient: -0.154\n",
      "\n",
      "param 0.4 1\n",
      "cluster 35\n",
      "Silhouette Coefficient: 0.157\n",
      "\n",
      "param 0.4 2\n",
      "cluster 12\n",
      "Silhouette Coefficient: -0.051\n",
      "\n",
      "param 0.4 3\n",
      "cluster 1\n",
      "Silhouette Coefficient: -0.044\n",
      "\n",
      "param 0.4 4\n",
      "cluster 1\n",
      "Silhouette Coefficient: -0.078\n",
      "\n",
      "param 0.4 5\n",
      "cluster 1\n",
      "Silhouette Coefficient: -0.098\n",
      "\n",
      "param 0.4 6\n",
      "cluster 1\n",
      "Silhouette Coefficient: -0.136\n",
      "\n",
      "param 0.4 7\n",
      "cluster 1\n",
      "Silhouette Coefficient: -0.136\n",
      "\n",
      "param 0.43 1\n",
      "cluster 32\n",
      "Silhouette Coefficient: 0.120\n",
      "\n",
      "param 0.43 2\n",
      "cluster 12\n",
      "Silhouette Coefficient: -0.056\n",
      "\n",
      "param 0.43 3\n",
      "cluster 1\n",
      "Silhouette Coefficient: -0.024\n",
      "\n",
      "param 0.43 4\n",
      "cluster 1\n",
      "Silhouette Coefficient: -0.055\n",
      "\n",
      "param 0.43 5\n",
      "cluster 1\n",
      "Silhouette Coefficient: -0.098\n",
      "\n",
      "param 0.43 6\n",
      "cluster 1\n",
      "Silhouette Coefficient: -0.136\n",
      "\n",
      "param 0.43 7\n",
      "cluster 1\n",
      "Silhouette Coefficient: -0.136\n",
      "\n",
      "param 0.46 1\n",
      "cluster 28\n",
      "Silhouette Coefficient: 0.083\n",
      "\n",
      "param 0.46 2\n",
      "cluster 11\n",
      "Silhouette Coefficient: 0.016\n",
      "\n",
      "param 0.46 3\n",
      "cluster 2\n",
      "Silhouette Coefficient: -0.039\n",
      "\n",
      "param 0.46 4\n",
      "cluster 1\n",
      "Silhouette Coefficient: -0.005\n",
      "\n",
      "param 0.46 5\n",
      "cluster 2\n",
      "Silhouette Coefficient: -0.147\n",
      "\n",
      "param 0.46 6\n",
      "cluster 2\n",
      "Silhouette Coefficient: -0.145\n",
      "\n",
      "param 0.46 7\n",
      "cluster 1\n",
      "Silhouette Coefficient: -0.136\n",
      "\n",
      "param 0.49 1\n",
      "cluster 24\n",
      "Silhouette Coefficient: 0.126\n",
      "\n",
      "param 0.49 2\n",
      "cluster 10\n",
      "Silhouette Coefficient: 0.107\n",
      "\n",
      "param 0.49 3\n",
      "cluster 4\n",
      "Silhouette Coefficient: 0.044\n",
      "\n",
      "param 0.49 4\n",
      "cluster 1\n",
      "Silhouette Coefficient: 0.090\n",
      "\n",
      "param 0.49 5\n",
      "cluster 1\n",
      "Silhouette Coefficient: 0.054\n",
      "\n",
      "param 0.49 6\n",
      "cluster 1\n",
      "Silhouette Coefficient: 0.020\n",
      "\n",
      "param 0.49 7\n",
      "cluster 1\n",
      "Silhouette Coefficient: -0.033\n",
      "\n",
      "param 0.52 1\n",
      "cluster 24\n",
      "Silhouette Coefficient: 0.126\n",
      "\n",
      "param 0.52 2\n",
      "cluster 10\n",
      "Silhouette Coefficient: 0.107\n",
      "\n",
      "param 0.52 3\n",
      "cluster 4\n",
      "Silhouette Coefficient: 0.044\n",
      "\n",
      "param 0.52 4\n",
      "cluster 1\n",
      "Silhouette Coefficient: 0.090\n",
      "\n",
      "param 0.52 5\n",
      "cluster 1\n",
      "Silhouette Coefficient: 0.054\n",
      "\n",
      "param 0.52 6\n",
      "cluster 1\n",
      "Silhouette Coefficient: 0.020\n",
      "\n",
      "param 0.52 7\n",
      "cluster 1\n",
      "Silhouette Coefficient: -0.033\n",
      "\n",
      "param 0.55 1\n",
      "cluster 22\n",
      "Silhouette Coefficient: 0.108\n",
      "\n",
      "param 0.55 2\n",
      "cluster 9\n",
      "Silhouette Coefficient: 0.067\n",
      "\n",
      "param 0.55 3\n",
      "cluster 4\n",
      "Silhouette Coefficient: 0.064\n",
      "\n",
      "param 0.55 4\n",
      "cluster 1\n",
      "Silhouette Coefficient: 0.103\n",
      "\n",
      "param 0.55 5\n",
      "cluster 1\n",
      "Silhouette Coefficient: 0.077\n",
      "\n",
      "param 0.55 6\n",
      "cluster 1\n",
      "Silhouette Coefficient: 0.067\n",
      "\n",
      "param 0.55 7\n",
      "cluster 1\n",
      "Silhouette Coefficient: 0.048\n",
      "\n",
      "param 0.55 8\n",
      "cluster 1\n",
      "Silhouette Coefficient: -0.072\n",
      "\n",
      "param 0.55 9\n",
      "cluster 1\n",
      "Silhouette Coefficient: -0.114\n",
      "\n",
      "param 0.58 1\n",
      "cluster 20\n",
      "Silhouette Coefficient: 0.111\n",
      "\n",
      "param 0.58 2\n",
      "cluster 9\n",
      "Silhouette Coefficient: 0.110\n",
      "\n",
      "param 0.58 3\n",
      "cluster 5\n",
      "Silhouette Coefficient: 0.152\n",
      "\n",
      "param 0.58 4\n",
      "cluster 1\n",
      "Silhouette Coefficient: 0.111\n",
      "\n",
      "param 0.58 5\n",
      "cluster 1\n",
      "Silhouette Coefficient: 0.096\n",
      "\n",
      "param 0.58 6\n",
      "cluster 1\n",
      "Silhouette Coefficient: 0.077\n",
      "\n",
      "param 0.58 7\n",
      "cluster 1\n",
      "Silhouette Coefficient: 0.059\n",
      "\n",
      "param 0.58 8\n",
      "cluster 1\n",
      "Silhouette Coefficient: -0.016\n",
      "\n",
      "param 0.58 9\n",
      "cluster 1\n",
      "Silhouette Coefficient: -0.061\n",
      "\n",
      "param 0.61 1\n",
      "cluster 17\n",
      "Silhouette Coefficient: 0.113\n",
      "\n",
      "param 0.61 2\n",
      "cluster 8\n",
      "Silhouette Coefficient: 0.117\n",
      "\n",
      "param 0.61 3\n",
      "cluster 4\n",
      "Silhouette Coefficient: 0.173\n",
      "\n",
      "param 0.61 4\n",
      "cluster 3\n",
      "Silhouette Coefficient: 0.086\n",
      "\n",
      "param 0.61 5\n",
      "cluster 1\n",
      "Silhouette Coefficient: 0.131\n",
      "\n",
      "param 0.61 6\n",
      "cluster 1\n",
      "Silhouette Coefficient: 0.096\n",
      "\n",
      "param 0.61 7\n",
      "cluster 1\n",
      "Silhouette Coefficient: 0.059\n",
      "\n",
      "param 0.61 8\n",
      "cluster 1\n",
      "Silhouette Coefficient: -0.016\n",
      "\n",
      "param 0.61 9\n",
      "cluster 1\n",
      "Silhouette Coefficient: -0.048\n",
      "\n",
      "param 0.64 1\n",
      "cluster 14\n",
      "Silhouette Coefficient: -0.012\n",
      "\n",
      "param 0.64 2\n",
      "cluster 5\n",
      "Silhouette Coefficient: 0.154\n",
      "\n",
      "param 0.64 3\n",
      "cluster 2\n",
      "Silhouette Coefficient: 0.251\n",
      "\n",
      "param 0.64 4\n",
      "cluster 3\n",
      "Silhouette Coefficient: 0.099\n",
      "\n",
      "param 0.64 5\n",
      "cluster 1\n",
      "Silhouette Coefficient: 0.156\n",
      "\n",
      "param 0.64 6\n",
      "cluster 1\n",
      "Silhouette Coefficient: 0.116\n",
      "\n",
      "param 0.64 7\n",
      "cluster 1\n",
      "Silhouette Coefficient: 0.090\n",
      "\n",
      "param 0.64 8\n",
      "cluster 1\n",
      "Silhouette Coefficient: 0.033\n",
      "\n",
      "param 0.64 9\n",
      "cluster 1\n",
      "Silhouette Coefficient: -0.016\n",
      "\n",
      "param 0.64 10\n",
      "cluster 1\n",
      "Silhouette Coefficient: -0.072\n",
      "\n",
      "param 0.67 1\n",
      "cluster 12\n",
      "Silhouette Coefficient: -0.013\n",
      "\n",
      "param 0.67 2\n",
      "cluster 4\n",
      "Silhouette Coefficient: 0.195\n",
      "\n",
      "param 0.67 3\n",
      "cluster 3\n",
      "Silhouette Coefficient: 0.185\n",
      "\n",
      "param 0.67 4\n",
      "cluster 2\n",
      "Silhouette Coefficient: 0.177\n",
      "\n",
      "param 0.67 5\n",
      "cluster 2\n",
      "Silhouette Coefficient: 0.155\n",
      "\n",
      "param 0.67 6\n",
      "cluster 2\n",
      "Silhouette Coefficient: 0.119\n",
      "\n",
      "param 0.67 7\n",
      "cluster 1\n",
      "Silhouette Coefficient: 0.130\n",
      "\n",
      "param 0.67 8\n",
      "cluster 1\n",
      "Silhouette Coefficient: 0.121\n",
      "\n",
      "param 0.67 9\n",
      "cluster 1\n",
      "Silhouette Coefficient: 0.085\n",
      "\n",
      "param 0.67 10\n",
      "cluster 1\n",
      "Silhouette Coefficient: 0.018\n",
      "\n",
      "param 0.67 11\n",
      "cluster 1\n",
      "Silhouette Coefficient: -0.007\n",
      "\n",
      "param 0.67 12\n",
      "cluster 1\n",
      "Silhouette Coefficient: -0.007\n",
      "\n"
     ]
    }
   ],
   "source": [
    "DBS_param(normal_pc)"
   ]
  },
  {
   "cell_type": "code",
   "execution_count": 70,
   "metadata": {},
   "outputs": [
    {
     "data": {
      "text/plain": [
       "0.2712525611628011"
      ]
     },
     "execution_count": 70,
     "metadata": {},
     "output_type": "execute_result"
    }
   ],
   "source": [
    "max(silhouettescore) ## esp=0.64, min_samples=3"
   ]
  },
  {
   "cell_type": "code",
   "execution_count": 71,
   "metadata": {},
   "outputs": [
    {
     "name": "stdout",
     "output_type": "stream",
     "text": [
      "Number of Cluster 2\n",
      "Proportion of unclustered points= 0.2542372881355932\n"
     ]
    },
    {
     "data": {
      "image/png": "[encoded data removed]",
      "text/plain": [
       "<Figure size 432x432 with 1 Axes>"
      ]
     },
     "metadata": {
      "needs_background": "light"
     },
     "output_type": "display_data"
    }
   ],
   "source": [
    "visuDB(normal_pc,0.64,3)"
   ]
  },
  {
   "cell_type": "markdown",
   "metadata": {},
   "source": [
    "## K_Means"
   ]
  },
  {
   "cell_type": "code",
   "execution_count": 54,
   "metadata": {},
   "outputs": [],
   "source": [
    "from sklearn.cluster import KMeans\n",
    "from sklearn.metrics import silhouette_samples, silhouette_score"
   ]
  },
  {
   "cell_type": "markdown",
   "metadata": {},
   "source": [
    "SAH"
   ]
  },
  {
   "cell_type": "code",
   "execution_count": 73,
   "metadata": {},
   "outputs": [
    {
     "name": "stdout",
     "output_type": "stream",
     "text": [
      "For n_clusters =2, the average silhouette_score is :0.4131734432161991\n",
      "For n_clusters =3, the average silhouette_score is :0.42801038168003674\n",
      "For n_clusters =4, the average silhouette_score is :0.40893678217483737\n",
      "For n_clusters =5, the average silhouette_score is :0.40067245382766664\n",
      "For n_clusters =6, the average silhouette_score is :0.3794600032887457\n",
      "For n_clusters =7, the average silhouette_score is :0.35518693721730893\n",
      "For n_clusters =8, the average silhouette_score is :0.3404403456540369\n",
      "For n_clusters =9, the average silhouette_score is :0.37499536719537957\n",
      "For n_clusters =10, the average silhouette_score is :0.3830885582409211\n",
      "For n_clusters =11, the average silhouette_score is :0.31689100892273264\n",
      "For n_clusters =12, the average silhouette_score is :0.3461649269626883\n",
      "For n_clusters =13, the average silhouette_score is :0.3499067741629024\n",
      "For n_clusters =14, the average silhouette_score is :0.36250259939861085\n",
      "For n_clusters =15, the average silhouette_score is :0.36171663593842346\n",
      "For n_clusters =16, the average silhouette_score is :0.3712334144489702\n",
      "For n_clusters =17, the average silhouette_score is :0.3630944576467681\n",
      "For n_clusters =18, the average silhouette_score is :0.35911528115133545\n",
      "For n_clusters =19, the average silhouette_score is :0.39227062825545667\n",
      "For n_clusters =20, the average silhouette_score is :0.37913886516502393\n",
      "For n_clusters =21, the average silhouette_score is :0.38915532949948756\n",
      "For n_clusters =22, the average silhouette_score is :0.3890264999723924\n",
      "For n_clusters =23, the average silhouette_score is :0.4087071568388322\n",
      "For n_clusters =24, the average silhouette_score is :0.4104376570389213\n",
      "For n_clusters =25, the average silhouette_score is :0.35842177080664833\n",
      "For n_clusters =26, the average silhouette_score is :0.3855050444543046\n",
      "For n_clusters =27, the average silhouette_score is :0.37387087695293975\n",
      "For n_clusters =28, the average silhouette_score is :0.37519122196626253\n",
      "For n_clusters =29, the average silhouette_score is :0.36082347732908904\n",
      "For n_clusters =30, the average silhouette_score is :0.3571311296560618\n",
      "For n_clusters =31, the average silhouette_score is :0.3301932918120863\n",
      "For n_clusters =32, the average silhouette_score is :0.34725438152479043\n",
      "For n_clusters =33, the average silhouette_score is :0.3106870839376604\n",
      "For n_clusters =34, the average silhouette_score is :0.30729800769951165\n"
     ]
    },
    {
     "data": {
      "image/png": "[encoded data removed]",
      "text/plain": [
       "<Figure size 720x432 with 1 Axes>"
      ]
     },
     "metadata": {
      "needs_background": "light"
     },
     "output_type": "display_data"
    },
    {
     "name": "stdout",
     "output_type": "stream",
     "text": [
      "0.42801038168003674\n"
     ]
    }
   ],
   "source": [
    "def KM_param(data):\n",
    "    silhouettescore = []\n",
    "    for n_clusters in range(2,35): #try different numbers of clusters\n",
    "        km = KMeans(n_clusters=n_clusters, random_state=324)\n",
    "        cluster_labels = km.fit_predict(data)\n",
    "        #report average Silhouette score\n",
    "        silhouette_avg = silhouette_score(data, cluster_labels)\n",
    "        silhouettescore.append(silhouette_avg)\n",
    "        print(\"For n_clusters ={},\".format(n_clusters)+\" the average silhouette_score is :{}\".format(silhouette_avg))\n",
    "\n",
    "    plt.figure(figsize=(10,6))\n",
    "    plt.plot(range(2,35),silhouettescore,linewidth=1.5,linestyle='-')\n",
    "    plt.show()\n",
    "    print(max(silhouettescore))\n",
    "KM_param(SAH_pc)"
   ]
  },
  {
   "cell_type": "code",
   "execution_count": 57,
   "metadata": {},
   "outputs": [
    {
     "data": {
      "image/png": "[encoded data removed]",
      "text/plain": [
       "<Figure size 432x288 with 1 Axes>"
      ]
     },
     "metadata": {
      "needs_background": "light"
     },
     "output_type": "display_data"
    }
   ],
   "source": [
    "km = KMeans(n_clusters=3, random_state=324)\n",
    "cluster_labels = km.fit_predict(SAH_pc)\n",
    "plt.scatter(SAH_pc[:,0],SAH_pc[:,1],c=cluster_labels) #X population, Y income\n",
    "plt.show()\n"
   ]
  },
  {
   "cell_type": "markdown",
   "metadata": {},
   "source": [
    "Normal"
   ]
  },
  {
   "cell_type": "code",
   "execution_count": 74,
   "metadata": {},
   "outputs": [
    {
     "name": "stdout",
     "output_type": "stream",
     "text": [
      "For n_clusters =2, the average silhouette_score is :0.40590544198918976\n",
      "For n_clusters =3, the average silhouette_score is :0.37020339144357434\n",
      "For n_clusters =4, the average silhouette_score is :0.36675906139782954\n",
      "For n_clusters =5, the average silhouette_score is :0.3838613009957267\n",
      "For n_clusters =6, the average silhouette_score is :0.3561928279155894\n",
      "For n_clusters =7, the average silhouette_score is :0.3557167152478653\n",
      "For n_clusters =8, the average silhouette_score is :0.3626548389847279\n",
      "For n_clusters =9, the average silhouette_score is :0.34488931272328827\n",
      "For n_clusters =10, the average silhouette_score is :0.34436428024791554\n",
      "For n_clusters =11, the average silhouette_score is :0.3160040481328031\n",
      "For n_clusters =12, the average silhouette_score is :0.32774116289012467\n",
      "For n_clusters =13, the average silhouette_score is :0.33067225938165973\n",
      "For n_clusters =14, the average silhouette_score is :0.34424482174283527\n",
      "For n_clusters =15, the average silhouette_score is :0.3440712455811499\n",
      "For n_clusters =16, the average silhouette_score is :0.3473144632754915\n",
      "For n_clusters =17, the average silhouette_score is :0.372319352389123\n",
      "For n_clusters =18, the average silhouette_score is :0.3193354909517331\n",
      "For n_clusters =19, the average silhouette_score is :0.3170844497022742\n",
      "For n_clusters =20, the average silhouette_score is :0.34536026723273466\n",
      "For n_clusters =21, the average silhouette_score is :0.3358772053004747\n",
      "For n_clusters =22, the average silhouette_score is :0.30755972725542097\n",
      "For n_clusters =23, the average silhouette_score is :0.3285844217687013\n",
      "For n_clusters =24, the average silhouette_score is :0.331831738233235\n",
      "For n_clusters =25, the average silhouette_score is :0.3464649879014006\n",
      "For n_clusters =26, the average silhouette_score is :0.3273858106948547\n",
      "For n_clusters =27, the average silhouette_score is :0.32586489895242277\n",
      "For n_clusters =28, the average silhouette_score is :0.30721459746539165\n",
      "For n_clusters =29, the average silhouette_score is :0.3187213556072651\n",
      "For n_clusters =30, the average silhouette_score is :0.34330610251172594\n",
      "For n_clusters =31, the average silhouette_score is :0.3390722257356089\n",
      "For n_clusters =32, the average silhouette_score is :0.3454782676001334\n",
      "For n_clusters =33, the average silhouette_score is :0.3457489347684934\n",
      "For n_clusters =34, the average silhouette_score is :0.3440254549843005\n"
     ]
    },
    {
     "data": {
      "image/png": "[encoded data removed]",
      "text/plain": [
       "<Figure size 720x432 with 1 Axes>"
      ]
     },
     "metadata": {
      "needs_background": "light"
     },
     "output_type": "display_data"
    },
    {
     "name": "stdout",
     "output_type": "stream",
     "text": [
      "0.40590544198918976\n"
     ]
    }
   ],
   "source": [
    "KM_param(normal_pc)"
   ]
  },
  {
   "cell_type": "code",
   "execution_count": 83,
   "metadata": {},
   "outputs": [
    {
     "data": {
      "image/png": "[encoded data removed]",
      "text/plain": [
       "<Figure size 432x288 with 1 Axes>"
      ]
     },
     "metadata": {
      "needs_background": "light"
     },
     "output_type": "display_data"
    }
   ],
   "source": [
    "km = KMeans(n_clusters=2, random_state=324)\n",
    "cluster_labels = km.fit_predict(normal_pc)\n",
    "plt.scatter(normal_pc[:,0],normal_pc[:,1],c=cluster_labels) #X population, Y income\n",
    "plt.show()"
   ]
  },
  {
   "cell_type": "markdown",
   "metadata": {},
   "source": [
    "## Gussian Mixture"
   ]
  },
  {
   "cell_type": "code",
   "execution_count": 76,
   "metadata": {},
   "outputs": [],
   "source": [
    "from sklearn.mixture import GaussianMixture"
   ]
  },
  {
   "cell_type": "code",
   "execution_count": 105,
   "metadata": {},
   "outputs": [],
   "source": [
    "def GUS_param(data):\n",
    "    silhouettescore = []\n",
    "    for n_clusters in range(2,40): #try different numbers of clusters\n",
    "        gmm = GaussianMixture(n_components=n_clusters,random_state=100)\n",
    "        cluster_labels = gmm.fit_predict(data)\n",
    "        #report average Silhouette score\n",
    "        silhouette_avg = silhouette_score(data, cluster_labels)\n",
    "        silhouettescore.append(silhouette_avg)\n",
    "        print(\"For n_clusters ={},\".format(n_clusters)+\" the average silhouette_score is :{}\".format(silhouette_avg))\n",
    "\n",
    "    plt.figure(figsize=(10,6))\n",
    "    plt.plot(range(2,40),silhouettescore,linewidth=1.5,linestyle='-')\n",
    "    plt.show()\n",
    "    print(max(silhouettescore))\n",
    "    return (cluster_labels)"
   ]
  },
  {
   "cell_type": "markdown",
   "metadata": {},
   "source": [
    "SAH"
   ]
  },
  {
   "cell_type": "code",
   "execution_count": 103,
   "metadata": {},
   "outputs": [
    {
     "name": "stdout",
     "output_type": "stream",
     "text": [
      "For n_clusters =2, the average silhouette_score is :0.4702026625987291\n",
      "For n_clusters =3, the average silhouette_score is :0.39953580729625393\n",
      "For n_clusters =4, the average silhouette_score is :0.39579515291203055\n",
      "For n_clusters =5, the average silhouette_score is :0.3542644193933905\n",
      "For n_clusters =6, the average silhouette_score is :0.32393413111899255\n",
      "For n_clusters =7, the average silhouette_score is :0.28438155896584205\n",
      "For n_clusters =8, the average silhouette_score is :0.3063734757364183\n",
      "For n_clusters =9, the average silhouette_score is :0.28712190742078914\n",
      "For n_clusters =10, the average silhouette_score is :0.2828226400646728\n",
      "For n_clusters =11, the average silhouette_score is :0.2800797093355494\n",
      "For n_clusters =12, the average silhouette_score is :0.33634317501425487\n",
      "For n_clusters =13, the average silhouette_score is :0.3343469415972992\n",
      "For n_clusters =14, the average silhouette_score is :0.33823844993315333\n",
      "For n_clusters =15, the average silhouette_score is :0.3505816379026478\n",
      "For n_clusters =16, the average silhouette_score is :0.3787901430505443\n",
      "For n_clusters =17, the average silhouette_score is :0.3779096506704181\n",
      "For n_clusters =18, the average silhouette_score is :0.3843103169781417\n",
      "For n_clusters =19, the average silhouette_score is :0.36758291501828294\n",
      "For n_clusters =20, the average silhouette_score is :0.37163869491626444\n",
      "For n_clusters =21, the average silhouette_score is :0.3977378677416221\n",
      "For n_clusters =22, the average silhouette_score is :0.3833896218053515\n",
      "For n_clusters =23, the average silhouette_score is :0.3749203551456704\n",
      "For n_clusters =24, the average silhouette_score is :0.3920585181740926\n",
      "For n_clusters =25, the average silhouette_score is :0.37793543380288863\n",
      "For n_clusters =26, the average silhouette_score is :0.36068521452243\n",
      "For n_clusters =27, the average silhouette_score is :0.3538531240380417\n",
      "For n_clusters =28, the average silhouette_score is :0.35797133163020955\n",
      "For n_clusters =29, the average silhouette_score is :0.3644463765242209\n",
      "For n_clusters =30, the average silhouette_score is :0.35578940522690783\n",
      "For n_clusters =31, the average silhouette_score is :0.35325044389554106\n",
      "For n_clusters =32, the average silhouette_score is :0.31521100392363344\n",
      "For n_clusters =33, the average silhouette_score is :0.30321075726372776\n",
      "For n_clusters =34, the average silhouette_score is :0.29483843552058936\n",
      "For n_clusters =35, the average silhouette_score is :0.27833198455894587\n",
      "For n_clusters =36, the average silhouette_score is :0.26824032208833454\n",
      "For n_clusters =37, the average silhouette_score is :0.25959780887461215\n",
      "For n_clusters =38, the average silhouette_score is :0.25944173602051596\n",
      "For n_clusters =39, the average silhouette_score is :0.251980119308467\n"
     ]
    },
    {
     "data": {
      "image/png": "[encoded data removed]",
      "text/plain": [
       "<Figure size 720x432 with 1 Axes>"
      ]
     },
     "metadata": {
      "needs_background": "light"
     },
     "output_type": "display_data"
    },
    {
     "name": "stdout",
     "output_type": "stream",
     "text": [
      "0.4702026625987291\n"
     ]
    },
    {
     "data": {
      "text/plain": [
       "array([34, 23, 10,  2,  2, 12, 18, 18,  0, 38, 33, 17, 30, 27, 36, 11, 11,\n",
       "       11, 24, 32,  7,  8,  1, 31, 15, 19, 35, 37, 26,  6, 31,  1, 24, 16,\n",
       "        1, 13, 25, 37, 28, 21,  3,  1, 32, 16, 35, 22,  5, 14, 31,  8, 28,\n",
       "       15,  4, 20, 16, 17, 15, 29,  9])"
      ]
     },
     "execution_count": 103,
     "metadata": {},
     "output_type": "execute_result"
    }
   ],
   "source": [
    "GUS_param(SAH_pc)"
   ]
  },
  {
   "cell_type": "code",
   "execution_count": 106,
   "metadata": {},
   "outputs": [
    {
     "data": {
      "image/png": "[encoded data removed]",
      "text/plain": [
       "<Figure size 432x288 with 1 Axes>"
      ]
     },
     "metadata": {
      "needs_background": "light"
     },
     "output_type": "display_data"
    }
   ],
   "source": [
    "gmm = GaussianMixture(n_components=2,random_state=100)\n",
    "cluster_labels = gmm.fit_predict(SAH_pc)\n",
    "SAH_labels = cluster_labels\n",
    "plt.scatter(SAH_pc[:,0],SAH_pc[:,1],c=cluster_labels) #X population, Y income\n",
    "plt.show()"
   ]
  },
  {
   "cell_type": "code",
   "execution_count": 261,
   "metadata": {},
   "outputs": [],
   "source": [
    "SAH_demo2 = SAH_demo\n",
    "SAH_demo2['cluster_label'] = SAH_labels\n",
    "SAH_demo2 = SAH_demo2.drop(columns=['avg_organic'])\n",
    "SAH_demo2['avg_recyclable'] = SAH_demo2['avg_paper']+SAH_demo2['avg_mix']\n",
    "cluster_0 = SAH_demo2.loc[SAH_demo2.cluster_label == 0]\n",
    "cluster_1 = SAH_demo2.loc[SAH_demo2.cluster_label == 1]\n"
   ]
  },
  {
   "cell_type": "code",
   "execution_count": 269,
   "metadata": {},
   "outputs": [
    {
     "data": {
      "image/png": "[encoded data removed]",
      "text/plain": [
       "<Figure size 432x288 with 1 Axes>"
      ]
     },
     "metadata": {
      "needs_background": "light"
     },
     "output_type": "display_data"
    }
   ],
   "source": [
    "ax = cluster_0.HH_Income.plot.hist(bins=12, alpha=0.5, ylim=(0,11.5))"
   ]
  },
  {
   "cell_type": "code",
   "execution_count": 271,
   "metadata": {},
   "outputs": [
    {
     "data": {
      "image/png": "[encoded data removed]",
      "text/plain": [
       "<Figure size 432x288 with 1 Axes>"
      ]
     },
     "metadata": {
      "needs_background": "light"
     },
     "output_type": "display_data"
    }
   ],
   "source": [
    "ax = cluster_1.HH_Income.plot.hist(bins=12, alpha=0.5,ylim=(0, 11.5))"
   ]
  },
  {
   "cell_type": "code",
   "execution_count": 157,
   "metadata": {},
   "outputs": [],
   "source": [
    "from sklearn import linear_model\n",
    "import statsmodels.formula.api as smf"
   ]
  },
  {
   "cell_type": "markdown",
   "metadata": {},
   "source": [
    "Cluster 0 "
   ]
  },
  {
   "cell_type": "code",
   "execution_count": 247,
   "metadata": {},
   "outputs": [],
   "source": [
    "x = cluster_0.values #returns a numpy array\n",
    "scaler = StandardScaler()\n",
    "x_scaled = scaler.fit_transform(x)\n",
    "cluster_0_st = pd.DataFrame(x_scaled)\n",
    "cluster_0_st.columns = ['Population', 'HH_Income', 'avg_refuse', 'avg_paper', 'avg_mix',\n",
    "       'cluster_label', 'avg_recyclable']\n",
    "\n",
    "lm_refuse0 = smf.ols(formula='avg_refuse ~ + HH_Income' , data = cluster_0_st).fit()\n",
    "cluster_0_st['predicted_refuse'] = lm_refuse0.predict(cluster_0_st)\n",
    "\n",
    "lm_recy0 = smf.ols(formula='avg_recyclable ~ + HH_Income' , data = cluster_0_st).fit()\n",
    "cluster_0_st['predicted_recyclable'] = lm_recy0.predict(cluster_0_st)"
   ]
  },
  {
   "cell_type": "code",
   "execution_count": 257,
   "metadata": {},
   "outputs": [
    {
     "data": {
      "text/plain": [
       "Text(0.5, 1.0, 'cluster 0 Income vs. Refuse per capita')"
      ]
     },
     "execution_count": 257,
     "metadata": {},
     "output_type": "execute_result"
    },
    {
     "data": {
      "image/png": "[encoded data removed]",
      "text/plain": [
       "<Figure size 432x288 with 1 Axes>"
      ]
     },
     "metadata": {
      "needs_background": "light"
     },
     "output_type": "display_data"
    }
   ],
   "source": [
    "fig, ax = plt.subplots() #get axis to plot on\n",
    "cluster_0_st.plot(ax=ax,kind='scatter',x='HH_Income',y='avg_refuse') #show the data\n",
    "ax.plot(cluster_0_st.HH_Income,cluster_0_st.predicted_refuse,'r-')\n",
    "plt.title(\"cluster 0 Income vs. Refuse per capita\")"
   ]
  },
  {
   "cell_type": "code",
   "execution_count": 256,
   "metadata": {},
   "outputs": [
    {
     "data": {
      "text/plain": [
       "Text(0.5, 1.0, 'cluster 0 Income vs. Recyclable per capita')"
      ]
     },
     "execution_count": 256,
     "metadata": {},
     "output_type": "execute_result"
    },
    {
     "data": {
      "image/png": "[encoded data removed]",
      "text/plain": [
       "<Figure size 432x288 with 1 Axes>"
      ]
     },
     "metadata": {
      "needs_background": "light"
     },
     "output_type": "display_data"
    }
   ],
   "source": [
    "fig, ax = plt.subplots() #get axis to plot on\n",
    "# ax.set_xscale('log'); ax.set_yscale('log') #set up log-scale for axis\n",
    "cluster_0_st.plot(ax=ax,kind='scatter',x='HH_Income',y='avg_recyclable') #show the data\n",
    "ax.plot(cluster_0_st.HH_Income,cluster_0_st.predicted_recyclable,'r-')\n",
    "plt.title(\"cluster 0 Income vs. Recyclable per capita\")"
   ]
  },
  {
   "cell_type": "markdown",
   "metadata": {},
   "source": [
    "Cluster 1"
   ]
  },
  {
   "cell_type": "code",
   "execution_count": 244,
   "metadata": {},
   "outputs": [],
   "source": [
    "x = cluster_1.values #returns a numpy array\n",
    "scaler = StandardScaler()\n",
    "x_scaled = scaler.fit_transform(x)\n",
    "cluster_1_st = pd.DataFrame(x_scaled)\n",
    "cluster_1_st.columns = ['Population', 'HH_Income', 'avg_refuse', 'avg_paper', 'avg_mix',\n",
    "       'cluster_label', 'avg_recyclable']\n",
    "\n",
    "lm_refuse = smf.ols(formula='avg_refuse ~ + HH_Income' , data = cluster_1_st).fit()\n",
    "cluster_1_st['predicted_refuse'] = lm_refuse.predict(cluster_1_st)\n",
    "\n",
    "lm_recy = smf.ols(formula='avg_recyclable ~ + HH_Income' , data = cluster_1_st).fit()\n",
    "cluster_1_st['predicted_recyclable'] = lm_recy.predict(cluster_1_st)"
   ]
  },
  {
   "cell_type": "code",
   "execution_count": 258,
   "metadata": {},
   "outputs": [
    {
     "data": {
      "text/plain": [
       "Text(0.5, 1.0, 'cluster 1 Income vs. Refuse per capita')"
      ]
     },
     "execution_count": 258,
     "metadata": {},
     "output_type": "execute_result"
    },
    {
     "data": {
      "image/png": "[encoded data removed]",
      "text/plain": [
       "<Figure size 432x288 with 1 Axes>"
      ]
     },
     "metadata": {
      "needs_background": "light"
     },
     "output_type": "display_data"
    }
   ],
   "source": [
    "fig, ax = plt.subplots() #get axis to plot on\n",
    "# ax.set_xscale('log'); ax.set_yscale('log') #set up log-scale for axis\n",
    "cluster_1_st.plot(ax=ax,kind='scatter',x='HH_Income',y='avg_refuse') #show the data\n",
    "ax.plot(cluster_1_st.HH_Income,cluster_1_st.predicted_refuse,'r-')\n",
    "plt.title(\"cluster 1 Income vs. Refuse per capita\")"
   ]
  },
  {
   "cell_type": "code",
   "execution_count": 259,
   "metadata": {},
   "outputs": [
    {
     "data": {
      "text/plain": [
       "Text(0.5, 1.0, 'cluster 1 Income vs. Recyclable per capita')"
      ]
     },
     "execution_count": 259,
     "metadata": {},
     "output_type": "execute_result"
    },
    {
     "data": {
      "image/png": "[encoded data removed]",
      "text/plain": [
       "<Figure size 432x288 with 1 Axes>"
      ]
     },
     "metadata": {
      "needs_background": "light"
     },
     "output_type": "display_data"
    }
   ],
   "source": [
    "fig, ax = plt.subplots() #get axis to plot on\n",
    "cluster_1_st.plot(ax=ax,kind='scatter',x='HH_Income',y='avg_recyclable') #show the data\n",
    "ax.plot(cluster_1_st.HH_Income,cluster_1_st.predicted_recyclable,'r-')\n",
    "plt.title(\"cluster 1 Income vs. Recyclable per capita\")"
   ]
  },
  {
   "cell_type": "markdown",
   "metadata": {},
   "source": [
    "Normal"
   ]
  },
  {
   "cell_type": "code",
   "execution_count": 84,
   "metadata": {},
   "outputs": [
    {
     "name": "stdout",
     "output_type": "stream",
     "text": [
      "For n_clusters =2, the average silhouette_score is :0.3988411509846394\n",
      "For n_clusters =3, the average silhouette_score is :0.32586448944203206\n",
      "For n_clusters =4, the average silhouette_score is :0.3128029381383465\n",
      "For n_clusters =5, the average silhouette_score is :0.3703118217207944\n",
      "For n_clusters =6, the average silhouette_score is :0.36184387603603746\n",
      "For n_clusters =7, the average silhouette_score is :0.28116757333251263\n",
      "For n_clusters =8, the average silhouette_score is :0.2738974886875229\n",
      "For n_clusters =9, the average silhouette_score is :0.3072722115656318\n",
      "For n_clusters =10, the average silhouette_score is :0.28702797639502553\n",
      "For n_clusters =11, the average silhouette_score is :0.2692469989995263\n",
      "For n_clusters =12, the average silhouette_score is :0.2525991244299893\n",
      "For n_clusters =13, the average silhouette_score is :0.2599695060127222\n",
      "For n_clusters =14, the average silhouette_score is :0.24621683252107363\n",
      "For n_clusters =15, the average silhouette_score is :0.24288349755209912\n",
      "For n_clusters =16, the average silhouette_score is :0.2683259966778942\n",
      "For n_clusters =17, the average silhouette_score is :0.2570447487730232\n",
      "For n_clusters =18, the average silhouette_score is :0.24892708313823003\n",
      "For n_clusters =19, the average silhouette_score is :0.25970995039980216\n",
      "For n_clusters =20, the average silhouette_score is :0.2764244930852675\n",
      "For n_clusters =21, the average silhouette_score is :0.24984398032327976\n",
      "For n_clusters =22, the average silhouette_score is :0.2521231324873444\n",
      "For n_clusters =23, the average silhouette_score is :0.27433501186946985\n",
      "For n_clusters =24, the average silhouette_score is :0.2828886542448356\n",
      "For n_clusters =25, the average silhouette_score is :0.29922441013448936\n",
      "For n_clusters =26, the average silhouette_score is :0.32949628678815307\n",
      "For n_clusters =27, the average silhouette_score is :0.33413843436558566\n",
      "For n_clusters =28, the average silhouette_score is :0.3322048666975803\n",
      "For n_clusters =29, the average silhouette_score is :0.33048628727568824\n",
      "For n_clusters =30, the average silhouette_score is :0.33389174347425077\n",
      "For n_clusters =31, the average silhouette_score is :0.34386473880428686\n",
      "For n_clusters =32, the average silhouette_score is :0.324179655632934\n",
      "For n_clusters =33, the average silhouette_score is :0.31655698518311925\n",
      "For n_clusters =34, the average silhouette_score is :0.31313138286945363\n",
      "For n_clusters =35, the average silhouette_score is :0.306968961544074\n",
      "For n_clusters =36, the average silhouette_score is :0.30725853504766715\n",
      "For n_clusters =37, the average silhouette_score is :0.3032567912682443\n",
      "For n_clusters =38, the average silhouette_score is :0.30356146759444913\n",
      "For n_clusters =39, the average silhouette_score is :0.28693334449626745\n"
     ]
    },
    {
     "data": {
      "image/png": "[encoded data removed]",
      "text/plain": [
       "<Figure size 720x432 with 1 Axes>"
      ]
     },
     "metadata": {
      "needs_background": "light"
     },
     "output_type": "display_data"
    },
    {
     "name": "stdout",
     "output_type": "stream",
     "text": [
      "0.3988411509846394\n"
     ]
    }
   ],
   "source": [
    "GUS_param(normal_pc)"
   ]
  },
  {
   "cell_type": "code",
   "execution_count": 260,
   "metadata": {},
   "outputs": [
    {
     "data": {
      "image/png": "[encoded data removed]",
      "text/plain": [
       "<Figure size 432x288 with 1 Axes>"
      ]
     },
     "metadata": {
      "needs_background": "light"
     },
     "output_type": "display_data"
    }
   ],
   "source": [
    "gmm = GaussianMixture(n_components=2,random_state=100)\n",
    "cluster_labels = gmm.fit_predict(normal_pc)\n",
    "normal_labels = cluster_labels\n",
    "plt.scatter(normal_pc[:,0],normal_pc[:,1],c=cluster_labels) #X population, Y income\n",
    "plt.show()"
   ]
  },
  {
   "cell_type": "code",
   "execution_count": null,
   "metadata": {},
   "outputs": [],
   "source": []
  },
  {
   "cell_type": "code",
   "execution_count": 265,
   "metadata": {},
   "outputs": [],
   "source": [
    "waste_demo2 = waste_demo\n",
    "waste_demo2['cluster_label'] = normal_labels\n",
    "waste_demo2 = waste_demo2.drop(columns=['avg_organic'])\n",
    "waste_demo2['avg_recyclable'] = waste_demo2['avg_paper']+waste_demo2['avg_mix']\n",
    "cluster_0_n = waste_demo2.loc[waste_demo2.cluster_label == 0]\n",
    "cluster_1_n = waste_demo2.loc[waste_demo2.cluster_label == 1]"
   ]
  },
  {
   "cell_type": "code",
   "execution_count": 272,
   "metadata": {},
   "outputs": [
    {
     "data": {
      "image/png": "[encoded data removed]",
      "text/plain": [
       "<Figure size 432x288 with 1 Axes>"
      ]
     },
     "metadata": {
      "needs_background": "light"
     },
     "output_type": "display_data"
    }
   ],
   "source": [
    "ax = cluster_0_n.HH_Income.plot.hist(bins=12, alpha=0.5, ylim=(0,11.5))"
   ]
  },
  {
   "cell_type": "code",
   "execution_count": 273,
   "metadata": {},
   "outputs": [
    {
     "data": {
      "image/png": "[encoded data removed]",
      "text/plain": [
       "<Figure size 432x288 with 1 Axes>"
      ]
     },
     "metadata": {
      "needs_background": "light"
     },
     "output_type": "display_data"
    }
   ],
   "source": [
    "ax = cluster_1_n.HH_Income.plot.hist(bins=12, alpha=0.5,ylim=(0,11.5))"
   ]
  },
  {
   "cell_type": "markdown",
   "metadata": {},
   "source": [
    "Cluster 0 Normal Time"
   ]
  },
  {
   "cell_type": "code",
   "execution_count": 277,
   "metadata": {},
   "outputs": [],
   "source": [
    "x = cluster_0_n.values #returns a numpy array\n",
    "scaler = StandardScaler()\n",
    "x_scaled = scaler.fit_transform(x)\n",
    "cluster_0_n_st = pd.DataFrame(x_scaled)\n",
    "cluster_0_n_st.columns = ['Population', 'HH_Income', 'avg_refuse', 'avg_paper', 'avg_mix',\n",
    "       'cluster_label', 'avg_recyclable']\n",
    "\n",
    "lm_refuse0_n = smf.ols(formula='avg_refuse ~ + HH_Income' , data = cluster_0_n_st).fit()\n",
    "cluster_0_n_st['predicted_refuse'] = lm_refuse0.predict(cluster_0_n_st)\n",
    "\n",
    "lm_recy0_n = smf.ols(formula='avg_recyclable ~ + HH_Income' , data = cluster_0_n_st).fit()\n",
    "cluster_0_n_st['predicted_recyclable'] = lm_recy0.predict(cluster_0_n_st)"
   ]
  },
  {
   "cell_type": "code",
   "execution_count": 279,
   "metadata": {},
   "outputs": [
    {
     "data": {
      "text/plain": [
       "Text(0.5, 1.0, 'cluster 0 Income vs. Refuse per capita')"
      ]
     },
     "execution_count": 279,
     "metadata": {},
     "output_type": "execute_result"
    },
    {
     "data": {
      "image/png": "[encoded data removed]",
      "text/plain": [
       "<Figure size 432x288 with 1 Axes>"
      ]
     },
     "metadata": {
      "needs_background": "light"
     },
     "output_type": "display_data"
    }
   ],
   "source": [
    "fig, ax = plt.subplots() #get axis to plot on\n",
    "cluster_0_n_st.plot(ax=ax,kind='scatter',x='HH_Income',y='avg_refuse') #show the data\n",
    "ax.plot(cluster_0_n_st.HH_Income,cluster_0_n_st.predicted_refuse,'r-')\n",
    "plt.title(\"cluster 0 Income vs. Refuse per capita\")"
   ]
  },
  {
   "cell_type": "code",
   "execution_count": 280,
   "metadata": {},
   "outputs": [
    {
     "data": {
      "text/plain": [
       "Text(0.5, 1.0, 'cluster 0 Income vs. Recyclable per capita')"
      ]
     },
     "execution_count": 280,
     "metadata": {},
     "output_type": "execute_result"
    },
    {
     "data": {
      "image/png": "[encoded data removed]",
      "text/plain": [
       "<Figure size 432x288 with 1 Axes>"
      ]
     },
     "metadata": {
      "needs_background": "light"
     },
     "output_type": "display_data"
    }
   ],
   "source": [
    "fig, ax = plt.subplots() #get axis to plot on\n",
    "# ax.set_xscale('log'); ax.set_yscale('log') #set up log-scale for axis\n",
    "cluster_0_n_st.plot(ax=ax,kind='scatter',x='HH_Income',y='avg_recyclable') #show the data\n",
    "ax.plot(cluster_0_n_st.HH_Income,cluster_0_n_st.predicted_recyclable,'r-')\n",
    "plt.title(\"cluster 0 Income vs. Recyclable per capita\")"
   ]
  },
  {
   "cell_type": "markdown",
   "metadata": {},
   "source": [
    "Cluster 1 Normal Time"
   ]
  },
  {
   "cell_type": "code",
   "execution_count": 282,
   "metadata": {},
   "outputs": [],
   "source": [
    "x = cluster_1_n.values #returns a numpy array\n",
    "scaler = StandardScaler()\n",
    "x_scaled = scaler.fit_transform(x)\n",
    "cluster_1_n_st = pd.DataFrame(x_scaled)\n",
    "cluster_1_n_st.columns = ['Population', 'HH_Income', 'avg_refuse', 'avg_paper', 'avg_mix',\n",
    "       'cluster_label', 'avg_recyclable']\n",
    "\n",
    "lm_refuse_n = smf.ols(formula='avg_refuse ~ + HH_Income' , data = cluster_1_n_st).fit()\n",
    "cluster_1_n_st['predicted_refuse'] = lm_refuse_n.predict(cluster_1_n_st)\n",
    "\n",
    "lm_recy_n = smf.ols(formula='avg_recyclable ~ + HH_Income' , data = cluster_1_n_st).fit()\n",
    "cluster_1_n_st['predicted_recyclable'] = lm_recy_n.predict(cluster_1_n_st)"
   ]
  },
  {
   "cell_type": "code",
   "execution_count": 283,
   "metadata": {},
   "outputs": [
    {
     "data": {
      "text/plain": [
       "Text(0.5, 1.0, 'cluster 1 Income vs. Refuse per capita')"
      ]
     },
     "execution_count": 283,
     "metadata": {},
     "output_type": "execute_result"
    },
    {
     "data": {
      "image/png": "[encoded data removed]",
      "text/plain": [
       "<Figure size 432x288 with 1 Axes>"
      ]
     },
     "metadata": {
      "needs_background": "light"
     },
     "output_type": "display_data"
    }
   ],
   "source": [
    "fig, ax = plt.subplots() #get axis to plot on\n",
    "# ax.set_xscale('log'); ax.set_yscale('log') #set up log-scale for axis\n",
    "cluster_1_n_st.plot(ax=ax,kind='scatter',x='HH_Income',y='avg_refuse') #show the data\n",
    "ax.plot(cluster_1_n_st.HH_Income,cluster_1_n_st.predicted_refuse,'r-')\n",
    "plt.title(\"cluster 1 Income vs. Refuse per capita\")"
   ]
  },
  {
   "cell_type": "code",
   "execution_count": 284,
   "metadata": {},
   "outputs": [
    {
     "data": {
      "text/plain": [
       "Text(0.5, 1.0, 'cluster 1 Income vs. Recyclable per capita')"
      ]
     },
     "execution_count": 284,
     "metadata": {},
     "output_type": "execute_result"
    },
    {
     "data": {
      "image/png": "[encoded data removed]",
      "text/plain": [
       "<Figure size 432x288 with 1 Axes>"
      ]
     },
     "metadata": {
      "needs_background": "light"
     },
     "output_type": "display_data"
    }
   ],
   "source": [
    "fig, ax = plt.subplots() #get axis to plot on\n",
    "cluster_1_n_st.plot(ax=ax,kind='scatter',x='HH_Income',y='avg_recyclable') #show the data\n",
    "ax.plot(cluster_1_n_st.HH_Income,cluster_1_n_st.predicted_recyclable,'r-')\n",
    "plt.title(\"cluster 1 Income vs. Recyclable per capita\")"
   ]
  },
  {
   "cell_type": "code",
   "execution_count": null,
   "metadata": {},
   "outputs": [],
   "source": []
  }
 ],
 "metadata": {
  "kernelspec": {
   "display_name": "Python 3",
   "language": "python",
   "name": "python3"
  },
  "language_info": {
   "codemirror_mode": {
    "name": "ipython",
    "version": 3
   },
   "file_extension": ".py",
   "mimetype": "text/x-python",
   "name": "python",
   "nbconvert_exporter": "python",
   "pygments_lexer": "ipython3",
   "version": "3.6.6"
  }
 },
 "nbformat": 4,
 "nbformat_minor": 2
}
